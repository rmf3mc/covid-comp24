{
 "cells": [
  {
   "cell_type": "code",
   "execution_count": null,
   "id": "30a13ae8",
   "metadata": {},
   "outputs": [],
   "source": [
    "import pandas as pd\n",
    "import cv2\n",
    "import os\n",
    "import ast \n",
    "from concurrent.futures import ThreadPoolExecutor, as_completed"
   ]
  },
  {
   "cell_type": "code",
   "execution_count": null,
   "id": "58ec3787",
   "metadata": {},
   "outputs": [],
   "source": [
    "files_dir='/mnt/challenge_preprocessing/files'"
   ]
  },
  {
   "cell_type": "code",
   "execution_count": null,
   "id": "0a53aab6",
   "metadata": {},
   "outputs": [],
   "source": [
    "# This function checks whether all images in a specified directory have the same shape for filtering inconsistent one.\n",
    "\n",
    "def all_images_same_shape(path, img_range_str):\n",
    "   \n",
    "    global scan\n",
    "    img_range = ast.literal_eval(img_range_str)\n",
    "    start, end = img_range  \n",
    "    \n",
    "    if '/challenge1' in path:\n",
    "        path = path.replace('preprocessed', 'OriginalDatauncompressed')\n",
    "    else:\n",
    "        path = path.replace('preprocessed', 'dataset')\n",
    "\n",
    "    end=len(os.listdir(path))\n",
    "\n",
    "    shapes = set()\n",
    "\n",
    "    scan+=1\n",
    "    \n",
    "    for i in range(0, end):\n",
    "        img_path = os.path.join(path, f\"{i}.jpg\")\n",
    "        img = cv2.imread(img_path)\n",
    "        if img is not None:\n",
    "            shapes.add(img.shape)\n",
    "        else:\n",
    "            return False\n",
    "    \n",
    "    return len(shapes) == 1"
   ]
  },
  {
   "cell_type": "code",
   "execution_count": null,
   "id": "bc323a7c",
   "metadata": {},
   "outputs": [],
   "source": [
    "\"\"\"This Process a single row of the DataFrame.\"\"\"\n",
    "\n",
    "def process_row(row):\n",
    "    path, img_range_str = row['Path'], row['Range']\n",
    "    if all_images_same_shape(path, img_range_str):\n",
    "        return row\n",
    "    else:\n",
    "        return None"
   ]
  },
  {
   "cell_type": "code",
   "execution_count": null,
   "id": "dc22c200",
   "metadata": {},
   "outputs": [],
   "source": [
    "\"\"\"Filter the DataFrame using multithreading.\"\"\"\n",
    "\n",
    "def filter_df_concurrently(df):\n",
    "    filtered_rows = []\n",
    "    with ThreadPoolExecutor() as executor:\n",
    "        # Submit all DataFrame rows for processing\n",
    "        futures = [executor.submit(process_row, row) for _, row in df.iterrows()]\n",
    "        \n",
    "        # Process as completed\n",
    "        for future in as_completed(futures):\n",
    "            result = future.result()\n",
    "            if result is not None:\n",
    "                filtered_rows.append(result)\n",
    "    \n",
    "    # Create a new DataFrame from the filtered rows\n",
    "    return pd.DataFrame(filtered_rows)"
   ]
  },
  {
   "cell_type": "code",
   "execution_count": null,
   "id": "fe4c714b",
   "metadata": {},
   "outputs": [],
   "source": [
    "df = pd.read_csv(os.path.join(files_dir,'la-challenge1_train_path_range_label.csv'))\n",
    "\n",
    "scan=0\n",
    "filtered_df = filter_df_concurrently(df)\n",
    "\n",
    "shuffled_df = filtered_df.sample(frac=1).reset_index(drop=True)\n",
    "shuffled_df.to_csv(os.path.join(files_dir,'filtered-la-challenge1_train_path_range_label.csv'), index=False)"
   ]
  },
  {
   "cell_type": "code",
   "execution_count": null,
   "id": "d984eb07",
   "metadata": {},
   "outputs": [],
   "source": [
    "df = pd.read_csv(os.path.join(files_dir,'la-challenge1_valid_path_range_label.csv'))\n",
    "\n",
    "scan=0\n",
    "filtered_df = filter_df_concurrently(df)\n",
    "\n",
    "shuffled_df = filtered_df.sample(frac=1).reset_index(drop=True)\n",
    "shuffled_df.to_csv(os.path.join(files_dir,'filtered-la-challenge1_valid_path_range_label.csv'), index=False)"
   ]
  },
  {
   "cell_type": "code",
   "execution_count": null,
   "id": "1931470b",
   "metadata": {},
   "outputs": [],
   "source": [
    "df = pd.read_csv(os.path.join(files_dir,'la-challenge2_train_path_range_label.csv'))\n",
    "\n",
    "scan=0\n",
    "filtered_df = filter_df_concurrently(df)\n",
    "\n",
    "shuffled_df = filtered_df.sample(frac=1).reset_index(drop=True)\n",
    "shuffled_df.to_csv(os.path.join(files_dir,'filtered-la-challenge2_train_path_range_label.csv'), index=False)"
   ]
  },
  {
   "cell_type": "code",
   "execution_count": null,
   "id": "8bfb6615",
   "metadata": {},
   "outputs": [],
   "source": [
    "df = pd.read_csv(os.path.join(files_dir,'la-challenge2_valid_scan_path_range_label.csv'))\n",
    "\n",
    "scan=0\n",
    "filtered_df = filter_df_concurrently(df)\n",
    "\n",
    "shuffled_df = filtered_df.sample(frac=1).reset_index(drop=True)\n",
    "shuffled_df.to_csv(os.path.join(files_dir,'filtered-la-challenge2_valid_path_range_label.csv'), index=False)"
   ]
  },
  {
   "cell_type": "code",
   "execution_count": null,
   "id": "16cef86b",
   "metadata": {},
   "outputs": [],
   "source": []
  },
  {
   "cell_type": "code",
   "execution_count": null,
   "id": "7c2602b7",
   "metadata": {},
   "outputs": [],
   "source": []
  }
 ],
 "metadata": {
  "kernelspec": {
   "display_name": "Python 3 (ipykernel)",
   "language": "python",
   "name": "python3"
  },
  "language_info": {
   "codemirror_mode": {
    "name": "ipython",
    "version": 3
   },
   "file_extension": ".py",
   "mimetype": "text/x-python",
   "name": "python",
   "nbconvert_exporter": "python",
   "pygments_lexer": "ipython3",
   "version": "3.10.9"
  }
 },
 "nbformat": 4,
 "nbformat_minor": 5
}
