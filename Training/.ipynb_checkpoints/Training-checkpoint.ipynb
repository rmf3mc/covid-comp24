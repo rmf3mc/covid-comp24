{
 "cells": [
  {
   "cell_type": "code",
   "execution_count": null,
   "id": "2ae17ab5",
   "metadata": {},
   "outputs": [],
   "source": [
    "from IPython.core.display import display, HTML\n",
    "display(HTML(\"<style>.container { width:95% !important; }</style>\"))"
   ]
  },
  {
   "cell_type": "code",
   "execution_count": null,
   "id": "0380eff8",
   "metadata": {},
   "outputs": [],
   "source": [
    "import os, gc, cv2, math, copy, time, random\n",
    "import pickle\n",
    "\n",
    "import numpy as np, pandas as pd\n",
    "from collections import defaultdict\n",
    "\n",
    "import torch, torch.nn as nn, torch.optim as optim\n",
    "from torch.optim import lr_scheduler\n",
    "import torch.backends.cudnn as cudnn\n",
    "import threading\n",
    "\n",
    "from sklearn.metrics import f1_score,roc_auc_score\n",
    "\n",
    "\n",
    "from tqdm.notebook import tqdm\n",
    "\n",
    "import torch.nn.functional as F\n",
    "import timm\n",
    "\n",
    "\n",
    "from torch.utils.data import Dataset, DataLoader\n",
    "\n",
    "from config import CONFIG\n",
    "from dataset import ChallengeDataset\n",
    "from model import eca_nfnet_l0\n",
    "from train import run_training\n",
    "from transforms import data_transforms\n",
    "from torch.cuda import amp"
   ]
  },
  {
   "cell_type": "code",
   "execution_count": null,
   "id": "ab9c88f7",
   "metadata": {},
   "outputs": [],
   "source": [
    "seed=8\n",
    "np.random.seed(seed)\n",
    "random.seed(seed)\n",
    "torch.manual_seed(seed)\n",
    "torch.cuda.manual_seed(seed)\n",
    "torch.backends.cudnn.deterministic = True\n",
    "torch.cuda.manual_seed_all(seed)\n",
    "cudnn.benchmark = False"
   ]
  },
  {
   "cell_type": "code",
   "execution_count": null,
   "id": "2c9ab524",
   "metadata": {},
   "outputs": [],
   "source": [
    "bin_save_path = \"/mnt/saved_models/dispose/14batch_eachof12_combing_challenge1_2training_challene2validation\"\n",
    "job_name = f\"epoch:{CONFIG['epochs']}_ECA_Attention_{CONFIG['img_size']}\"  "
   ]
  },
  {
   "cell_type": "code",
   "execution_count": null,
   "id": "affaf151",
   "metadata": {},
   "outputs": [],
   "source": [
    "model=eca_nfnet_l0()\n",
    "print(model)  "
   ]
  },
  {
   "cell_type": "code",
   "execution_count": null,
   "id": "02b0e2f3",
   "metadata": {},
   "outputs": [],
   "source": [
    "files_dir='/mnt/challenge_preprocessing/files/filtered'\n",
    "\n",
    "challenge1_train = pd.read_csv(os.path.join(files_dir,'filtered-la-challenge1_train_path_range_label.csv'))\n",
    "challenge1_valid = pd.read_csv(os.path.join(files_dir,'filtered-la-challenge1_valid_path_range_label.csv'))\n",
    "\n",
    "challenge2_train = pd.read_csv(os.path.join(files_dir,'filtered-la-challenge2_train_path_range_label.csv'))\n",
    "challenge2_valid = pd.read_csv(os.path.join(files_dir,'filtered-la-challenge2_valid_path_range_label.csv'))\n",
    "\n",
    "challenge_train=  pd.concat([challenge1_train, challenge2_train, challenge2_valid], axis=0)\n",
    "challenge_valid=challenge1_valid\n",
    "\n",
    "criterion=nn.BCEWithLogitsLoss()\n",
    "scaler = amp.GradScaler()\n",
    "\n",
    "\n",
    "train_dataset=ChallengeDataset(challenge_train,data_transforms['train'],12)\n",
    "valid_dataset=ChallengeDataset(challenge_valid,data_transforms['valid'],12)\n",
    "\n",
    "train_loader = DataLoader(train_dataset, batch_size=13,  shuffle=True) # batch_size=13\n",
    "valid_loader = DataLoader(valid_dataset, batch_size=13,  shuffle=False) # batch_size=13\n",
    "\n",
    "model = model.to(CONFIG['device'])\n",
    "optimizer = optim.Adam(model.parameters(), lr=CONFIG['learning_rate'], weight_decay=CONFIG['weight_decay'])"
   ]
  },
  {
   "cell_type": "code",
   "execution_count": null,
   "id": "0e6cd7c5",
   "metadata": {},
   "outputs": [],
   "source": [
    "model, history= run_training(\n",
    "    train_loader,\n",
    "    valid_loader,\n",
    "    criterion,\n",
    "    scaler,\n",
    "    model,\n",
    "    bin_save_path,\n",
    "    job_name, \n",
    "    optimizer,\n",
    "    None, \n",
    "    device=CONFIG['device'],\n",
    "    num_epochs=CONFIG['epochs'])"
   ]
  },
  {
   "cell_type": "code",
   "execution_count": null,
   "id": "a5306a2c",
   "metadata": {},
   "outputs": [],
   "source": [
    "1"
   ]
  },
  {
   "cell_type": "code",
   "execution_count": null,
   "id": "3a02a38a",
   "metadata": {},
   "outputs": [],
   "source": [
    "1"
   ]
  },
  {
   "cell_type": "code",
   "execution_count": null,
   "id": "18dbc164",
   "metadata": {},
   "outputs": [],
   "source": []
  }
 ],
 "metadata": {
  "kernelspec": {
   "display_name": "Python 3 (ipykernel)",
   "language": "python",
   "name": "python3"
  },
  "language_info": {
   "codemirror_mode": {
    "name": "ipython",
    "version": 3
   },
   "file_extension": ".py",
   "mimetype": "text/x-python",
   "name": "python",
   "nbconvert_exporter": "python",
   "pygments_lexer": "ipython3",
   "version": "3.10.9"
  }
 },
 "nbformat": 4,
 "nbformat_minor": 5
}
